{
 "cells": [
  {
   "cell_type": "markdown",
   "metadata": {},
   "source": [
    "# Exploratory Data Analysis"
   ]
  },
  {
   "cell_type": "code",
   "execution_count": 1,
   "metadata": {},
   "outputs": [],
   "source": [
    "%matplotlib inline\n",
    "import matplotlib.pyplot as plt\n",
    "import pandas as pd\n",
    "import numpy as np\n",
    "import csv\n",
    "import re"
   ]
  },
  {
   "cell_type": "markdown",
   "metadata": {},
   "source": [
    "## Load the Data into Pandas dataframes"
   ]
  },
  {
   "cell_type": "code",
   "execution_count": 2,
   "metadata": {},
   "outputs": [],
   "source": [
    "job_postings = pd.read_csv('raw_data/job_postings.csv')\n",
    "companies = pd.read_csv('raw_data/company_details/companies.csv')\n",
    "company_industries = pd.read_csv('raw_data/company_details/company_industries.csv')\n",
    "company_specialities = pd.read_csv('raw_data/company_details/company_specialities.csv')\n",
    "employee_counts = pd.read_csv('raw_data/company_details/employee_counts.csv')\n",
    "benefits = pd.read_csv('raw_data/job_details/benefits.csv')\n",
    "job_industries = pd.read_csv('raw_data/job_details/job_industries.csv')\n",
    "job_skills = pd.read_csv('raw_data/job_details/job_skills.csv')"
   ]
  },
  {
   "cell_type": "code",
   "execution_count": 3,
   "metadata": {},
   "outputs": [
    {
     "name": "stdout",
     "output_type": "stream",
     "text": [
      "<class 'pandas.core.frame.DataFrame'>\n",
      "RangeIndex: 15886 entries, 0 to 15885\n",
      "Data columns (total 27 columns):\n",
      " #   Column                      Non-Null Count  Dtype  \n",
      "---  ------                      --------------  -----  \n",
      " 0   job_id                      15886 non-null  int64  \n",
      " 1   company_id                  15520 non-null  float64\n",
      " 2   title                       15886 non-null  object \n",
      " 3   description                 15885 non-null  object \n",
      " 4   max_salary                  5521 non-null   float64\n",
      " 5   med_salary                  981 non-null    float64\n",
      " 6   min_salary                  5521 non-null   float64\n",
      " 7   pay_period                  6502 non-null   object \n",
      " 8   formatted_work_type         15886 non-null  object \n",
      " 9   location                    15886 non-null  object \n",
      " 10  applies                     8700 non-null   float64\n",
      " 11  original_listed_time        15886 non-null  float64\n",
      " 12  remote_allowed              2340 non-null   float64\n",
      " 13  views                       13123 non-null  float64\n",
      " 14  job_posting_url             15886 non-null  object \n",
      " 15  application_url             9795 non-null   object \n",
      " 16  application_type            15886 non-null  object \n",
      " 17  expiry                      15886 non-null  float64\n",
      " 18  closed_time                 928 non-null    float64\n",
      " 19  formatted_experience_level  10984 non-null  object \n",
      " 20  skills_desc                 144 non-null    object \n",
      " 21  listed_time                 15886 non-null  float64\n",
      " 22  posting_domain              9044 non-null   object \n",
      " 23  sponsored                   15886 non-null  int64  \n",
      " 24  work_type                   15886 non-null  object \n",
      " 25  currency                    6502 non-null   object \n",
      " 26  compensation_type           6502 non-null   object \n",
      "dtypes: float64(11), int64(2), object(14)\n",
      "memory usage: 3.3+ MB\n",
      "None\n"
     ]
    }
   ],
   "source": [
    "print(job_postings.info())"
   ]
  },
  {
   "cell_type": "markdown",
   "metadata": {},
   "source": [
    "## ER Diagram before enforcing constraints\n",
    "\n",
    "```mermaid\n",
    "erDiagram\n",
    "    Company {\n",
    "        int company_id PK\n",
    "        string name\n",
    "        string description\n",
    "    }\n",
    "\n",
    "    CompanyIndustry {\n",
    "        int company_id FK\n",
    "        string industry\n",
    "    }\n",
    "    Company |o..o| CompanyIndustry : \"part of\"\n",
    "\n",
    "    CompanySpeciality {\n",
    "        int company_id FK\n",
    "        string speciality\n",
    "    }\n",
    "    Company |o..o{ CompanySpeciality : has\n",
    "\n",
    "    EmployeeCount {\n",
    "        int company_id FK\n",
    "        int employee_count\n",
    "        int follower_count\n",
    "        float time_recorded\n",
    "    }\n",
    "    Company |o..o{ EmployeeCount : has\n",
    "    \n",
    "    JobPosting {\n",
    "        int job_id PK\n",
    "        int company_id FK\n",
    "    }\n",
    "    JobPosting }o..o| Company : by\n",
    "    \n",
    "    JobSkill {\n",
    "        int job_id FK\n",
    "        string skill_abr\n",
    "    }\n",
    "    JobPosting |o..o{ JobSkill : has\n",
    "    \n",
    "    JobIndustry {\n",
    "        int job_id FK\n",
    "        string industry_id\n",
    "    }\n",
    "    JobPosting |o..o{ JobIndustry : has\n",
    "    \n",
    "    Benefit {\n",
    "        int job_id FK\n",
    "        bool inferred\n",
    "        string type\n",
    "    }\n",
    "    JobPosting ||--o{ Benefit : has\n",
    "```"
   ]
  },
  {
   "cell_type": "markdown",
   "metadata": {},
   "source": [
    "## Enforce constraints\n",
    "\n",
    "3 steps for each table\n",
    "1. Remove duplicate rows (it helps to identify the PKs in the table)\n",
    "2. Enforce FK constraint (helps identify if its 0..1 or 1..1 relationship)\n",
    "3. Identify strong entities not present in weak entities (helps us to identify if its 1..N or 0..N relationship)\n",
    "\n",
    "### JobSkills\n",
    "Remove entries from job_skills for job_ids that don't exist in job_postings"
   ]
  },
  {
   "cell_type": "code",
   "execution_count": 4,
   "metadata": {},
   "outputs": [
    {
     "name": "stdout",
     "output_type": "stream",
     "text": [
      "Number of rows in job_skills before removing duplicate entries - 27899\n",
      "Number of rows with duplicate data - 0\n",
      "Number of rows in job_skills after removing duplicate entries - 27899\n",
      "Number of rows in job_skills before enforcing foreign key constraint - 27899\n",
      "These job_ids don't correspond to any row in job_postings. Removing them ...\n",
      "           job_id skill_abr\n",
      "11453  3697350868        BD\n",
      "11454  3697350868       ENG\n",
      "11455  3697350868      SALE\n",
      "11456  3697350870        BD\n",
      "11457  3697350870       EDU\n",
      "...           ...       ...\n",
      "13675  3697361082       ENG\n",
      "13676  3697361082      RSCH\n",
      "13677  3697361088        BD\n",
      "13678  3697361088        IT\n",
      "13679  3697361088      SALE\n",
      "\n",
      "[932 rows x 2 columns]\n",
      "Empty DataFrame\n",
      "Columns: [job_id, skill_abr]\n",
      "Index: []\n",
      "Number of rows in job_skills after enforcing foreign key constraint - 26967\n",
      "Number of rows in job_postings that don't have any skill associated with it - 637\n"
     ]
    }
   ],
   "source": [
    "# enforcing primary keys for job_skills table\n",
    "print(f\"Number of rows in job_skills before removing duplicate entries - {len(job_skills)}\")\n",
    "print(f\"Number of rows with duplicate data - {len([x for x in job_skills.duplicated() if x==True])}\")\n",
    "job_skills.drop_duplicates(inplace=True)\n",
    "print(f\"Number of rows in job_skills after removing duplicate entries - {len(job_skills)}\")\n",
    "# enforcing foreign key constraint for job_skills table\n",
    "a = set(job_postings[\"job_id\"])\n",
    "b = set(job_skills[\"job_id\"])\n",
    "print(f\"Number of rows in job_skills before enforcing foreign key constraint - {len(job_skills)}\")\n",
    "print(\"These job_ids don't correspond to any row in job_postings. Removing them ...\")\n",
    "print(job_skills.loc[job_skills[\"job_id\"].isin(b - a)])\n",
    "job_skills.drop(job_skills[job_skills[\"job_id\"].isin(b - a)].index, inplace=True)\n",
    "print(job_skills.loc[job_skills[\"job_id\"].isin(b - a)])\n",
    "print(f\"Number of rows in job_skills after enforcing foreign key constraint - {len(job_skills)}\")\n",
    "print(f\"Number of rows in job_postings that don't have any skill associated with it - {len(a - b)}\")\n",
    "# general comment - this can be a functional component - if someone removes a job posting, then a trigger can be set such that\n",
    "# the corresponding skills for that job should also be removed from job_skills table"
   ]
  },
  {
   "cell_type": "markdown",
   "metadata": {},
   "source": [
    "### JobIndustries\n",
    "Remove entries from job_industries for job_ids that don't exist in job_postings"
   ]
  },
  {
   "cell_type": "code",
   "execution_count": 5,
   "metadata": {},
   "outputs": [
    {
     "name": "stdout",
     "output_type": "stream",
     "text": [
      "Number of rows in job_industries before removing duplicate entries - 21993\n",
      "Number of rows with duplicate data - 0\n",
      "Number of rows in job_industries after removing duplicate entries - 21993\n",
      "Number of rows in job_industries before enforcing foreign key constraint - 21993\n",
      "These job_ids don't correspond to any row in job_postings. Removing them ...\n",
      "           job_id  industry_id\n",
      "8996   3697350868            4\n",
      "8997   3697350868           96\n",
      "8998   3697350868            6\n",
      "8999   3697350870           69\n",
      "9000   3697350870          132\n",
      "...           ...          ...\n",
      "11045  3697361082           96\n",
      "11046  3697361082            6\n",
      "11047  3697361088            4\n",
      "11048  3697361088           96\n",
      "11049  3697361088            6\n",
      "\n",
      "[1040 rows x 2 columns]\n",
      "Empty DataFrame\n",
      "Columns: [job_id, industry_id]\n",
      "Index: []\n",
      "Number of rows in job_industries after enforcing foreign key constraint - 20953\n",
      "Number of rows in job_postings that don't have any industry associated with it - 314\n"
     ]
    }
   ],
   "source": [
    "print(f\"Number of rows in job_industries before removing duplicate entries - {len(job_industries)}\")\n",
    "print(f\"Number of rows with duplicate data - {len([x for x in job_industries.duplicated() if x==True])}\")\n",
    "job_industries.drop_duplicates(inplace=True)\n",
    "print(f\"Number of rows in job_industries after removing duplicate entries - {len(job_industries)}\")\n",
    "a = set(job_postings[\"job_id\"])\n",
    "b = set(job_industries[\"job_id\"])\n",
    "print(f\"Number of rows in job_industries before enforcing foreign key constraint - {len(job_industries)}\")\n",
    "print(\"These job_ids don't correspond to any row in job_postings. Removing them ...\")\n",
    "print(job_industries.loc[job_industries[\"job_id\"].isin(b - a)])\n",
    "job_industries.drop(job_industries[job_industries[\"job_id\"].isin(b - a)].index, inplace=True)\n",
    "print(job_industries.loc[job_industries[\"job_id\"].isin(b - a)])\n",
    "print(f\"Number of rows in job_industries after enforcing foreign key constraint - {len(job_industries)}\")\n",
    "print(f\"Number of rows in job_postings that don't have any industry associated with it - {len(a - b)}\")\n",
    "\n",
    "# on delete cascade or trigger when a job id is deleted from job postings then that id should be deleted from job industries as well."
   ]
  },
  {
   "cell_type": "markdown",
   "metadata": {},
   "source": [
    "### Benefits\n",
    "Remove entries from benefits for job_ids that don't exist in job_postings"
   ]
  },
  {
   "cell_type": "code",
   "execution_count": 6,
   "metadata": {},
   "outputs": [
    {
     "name": "stdout",
     "output_type": "stream",
     "text": [
      "Number of rows in benefits before removing duplicate entries - 13761\n",
      "Number of rows with duplicate data - 0\n",
      "Number of rows in job_industries after removing duplicate entries - 13761\n",
      "Number of rows in benefits before enforcing foreign key constraint - 13761\n",
      "These job_ids don't correspond to any row in job_postings. Removing them ...\n",
      "Empty DataFrame\n",
      "Columns: [job_id, inferred, type]\n",
      "Index: []\n",
      "Empty DataFrame\n",
      "Columns: [job_id, inferred, type]\n",
      "Index: []\n",
      "Number of rows in benefits after enforcing foreign key constraint - 13761\n",
      "Number of rows in job_postings that don't have any benefit associated with it - 10390\n"
     ]
    }
   ],
   "source": [
    "print(f\"Number of rows in benefits before removing duplicate entries - {len(benefits)}\")\n",
    "print(f\"Number of rows with duplicate data - {len([x for x in benefits.duplicated() if x==True])}\")\n",
    "benefits.drop_duplicates(inplace=True)\n",
    "print(f\"Number of rows in job_industries after removing duplicate entries - {len(benefits)}\")\n",
    "a = set(job_postings[\"job_id\"])\n",
    "b = set(benefits[\"job_id\"])\n",
    "print(f\"Number of rows in benefits before enforcing foreign key constraint - {len(benefits)}\")\n",
    "print(\"These job_ids don't correspond to any row in job_postings. Removing them ...\")\n",
    "print(benefits.loc[benefits[\"job_id\"].isin(b - a)])\n",
    "benefits.drop(benefits[benefits[\"job_id\"].isin(b - a)].index, inplace=True)\n",
    "print(benefits.loc[benefits[\"job_id\"].isin(b - a)])\n",
    "print(f\"Number of rows in benefits after enforcing foreign key constraint - {len(benefits)}\")\n",
    "print(f\"Number of rows in job_postings that don't have any benefit associated with it - {len(a - b)}\")"
   ]
  },
  {
   "cell_type": "markdown",
   "metadata": {},
   "source": [
    "### Companies\n",
    "Handle discrepancies in companies and job_postings"
   ]
  },
  {
   "cell_type": "code",
   "execution_count": 7,
   "metadata": {},
   "outputs": [
    {
     "name": "stdout",
     "output_type": "stream",
     "text": [
      "There are 6063 rows in companies before removing duplicates.\n",
      "There are 33 duplicate rows in companies, where only the company_id is different, but all other columns are equal.\n",
      "Removing these duplicate rows from companies...\n",
      "There are 6030 rows in companies before removing duplicates.\n"
     ]
    }
   ],
   "source": [
    "idx = companies.duplicated(subset=list(companies.columns.difference(['company_id'])))\n",
    "print(f\"There are {len(companies)} rows in companies before removing duplicates.\")\n",
    "print(f\"There are {idx.sum()} duplicate rows in companies, where only the company_id is different, but all other columns are equal.\")\n",
    "print(\"Removing these duplicate rows from companies...\")\n",
    "companies.drop(companies[idx].index, inplace=True)\n",
    "print(f\"There are {len(companies)} rows in companies before removing duplicates.\")"
   ]
  },
  {
   "cell_type": "code",
   "execution_count": 8,
   "metadata": {},
   "outputs": [
    {
     "name": "stdout",
     "output_type": "stream",
     "text": [
      "Number of unique company_id in companies which doesn't exist in job_postings - 50\n",
      "Number of unique company_id in job_postings which doesn't exist in companies - 51\n",
      "Replacing company_id in job_postings where company_id doesn't exist to 0 (Null) ...\n",
      "Number of unique company_id in companies which doesn't exist in job_postings - 50\n",
      "Number of unique company_id in job_postings which doesn't exist in companies - 1\n"
     ]
    }
   ],
   "source": [
    "job_postings[\"company_id\"] = job_postings[\"company_id\"].fillna(0).astype(np.int64)\n",
    "a = set(job_postings[\"company_id\"])\n",
    "b = set(companies[\"company_id\"])\n",
    "print(f\"Number of unique company_id in companies which doesn't exist in job_postings - {len(b - a)}\")\n",
    "print(f\"Number of unique company_id in job_postings which doesn't exist in companies - {len(a - b)}\")\n",
    "print(f\"Replacing company_id in job_postings where company_id doesn't exist to 0 (Null) ...\")\n",
    "job_postings.loc[job_postings[\"company_id\"].isin((a - {0}) - b), \"company_id\"] = 0\n",
    "a = set(job_postings[\"company_id\"])\n",
    "b = set(companies[\"company_id\"])\n",
    "print(f\"Number of unique company_id in companies which doesn't exist in job_postings - {len(b - a)}\")\n",
    "print(f\"Number of unique company_id in job_postings which doesn't exist in companies - {len(a - b)}\") # here 1 o/p represents null\n",
    "job_postings[\"company_id\"].replace(0, np.nan, inplace=True)\n",
    "# Find companies who hasn't posted any job posting yet - 50 - functional component"
   ]
  },
  {
   "cell_type": "markdown",
   "metadata": {},
   "source": [
    "### EmployeeCounts\n",
    "Remove entries from employee_counts for company_ids that don't exist in companies"
   ]
  },
  {
   "cell_type": "code",
   "execution_count": 9,
   "metadata": {},
   "outputs": [
    {
     "name": "stdout",
     "output_type": "stream",
     "text": [
      "Number of rows in employee_counts before removing duplicate entries - 15907\n",
      "Number of rows with duplicate data - 3356\n",
      "Number of rows in employee_counts after removing duplicate entries - 12551\n",
      "Number of rows in employee_counts before enforcing foreign key constraint - 12551\n",
      "These company_ids don't correspond to any row in companies. Removing them ...\n",
      "    company_id  employee_count  follower_count  time_recorded\n",
      "0     81149246               6              91   1.692645e+09\n",
      "1     10033339               3             187   1.692645e+09\n",
      "2      6049228              20              82   1.692645e+09\n",
      "3      2641066              45            2336   1.692645e+09\n",
      "4     96649998               0               2   1.692645e+09\n",
      "5     82684341               3             128   1.692645e+09\n",
      "6     82296828               0              64   1.692645e+09\n",
      "7     86746333              11             478   1.692645e+09\n",
      "8       718651               5              22   1.692645e+09\n",
      "9      4781041              14              17   1.692645e+09\n",
      "10     7573454              94            9048   1.692645e+09\n",
      "11     1434753              61             653   1.692645e+09\n",
      "12       90844             249            1236   1.692645e+09\n",
      "14      145145              44           16833   1.692645e+09\n",
      "15     2899710             139            2841   1.692645e+09\n",
      "16    20338460              38            1656   1.692645e+09\n",
      "17    90633414               5             732   1.692645e+09\n",
      "18     2902815             183           29262   1.692645e+09\n",
      "19      371180            1893           31310   1.692645e+09\n",
      "20    10563070              14             349   1.692645e+09\n",
      "21       88684             147            8111   1.692645e+09\n",
      "22    14615655              36           10237   1.692645e+09\n",
      "23    69571610            3717          158109   1.692645e+09\n",
      "24        3657           28732          744716   1.692645e+09\n",
      "25       62424             899           10311   1.692645e+09\n",
      "26    18630069              19            1884   1.692645e+09\n",
      "28       35602             462            5824   1.692645e+09\n",
      "29    18872958             335          156482   1.692645e+09\n",
      "30    89908682              18             301   1.692645e+09\n",
      "31     2502541              29            8058   1.692645e+09\n",
      "32     9516195             113            8089   1.692645e+09\n",
      "36    91187899               2             582   1.692645e+09\n",
      "39     8986045               0             116   1.692645e+09\n",
      "41    34771768               7             413   1.692645e+09\n",
      "47    79378951              19              95   1.692645e+09\n",
      "48    26489605              19             762   1.692645e+09\n",
      "49     9215353             499            6977   1.692645e+09\n",
      "60     3514329             422           20754   1.692645e+09\n",
      "63        2815           43186          284104   1.692645e+09\n",
      "66    40934666               5           16505   1.692645e+09\n",
      "68     1485063              29             229   1.692645e+09\n",
      "69    19115854             113             267   1.692645e+09\n",
      "70     1124883              98             696   1.692645e+09\n",
      "71     4316275              12              20   1.692645e+09\n",
      "72    27116461              59           11841   1.692645e+09\n",
      "74    64734122              31             291   1.692645e+09\n",
      "76      272676               6             590   1.692645e+09\n",
      "77     3079381               8             178   1.692645e+09\n",
      "79     2313067               7           10842   1.692645e+09\n",
      "82      165957            4756           90015   1.692645e+09\n",
      "Number of rows in employee_counts after enforcing foreign key constraint - 12501\n",
      "Number of rows in companies whose company don't have any employee_counts associated with it - 50\n"
     ]
    }
   ],
   "source": [
    "print(f\"Number of rows in employee_counts before removing duplicate entries - {len(employee_counts)}\")\n",
    "print(f\"Number of rows with duplicate data - {len([x for x in employee_counts.duplicated() if x==True])}\")\n",
    "employee_counts.drop_duplicates(inplace=True)\n",
    "print(f\"Number of rows in employee_counts after removing duplicate entries - {len(employee_counts)}\")\n",
    "a = set(companies[\"company_id\"])\n",
    "b = set(employee_counts[\"company_id\"])\n",
    "print(f\"Number of rows in employee_counts before enforcing foreign key constraint - {len(employee_counts)}\")\n",
    "print(\"These company_ids don't correspond to any row in companies. Removing them ...\")\n",
    "print(employee_counts.loc[employee_counts[\"company_id\"].isin(b - a)])\n",
    "employee_counts.drop(employee_counts[employee_counts[\"company_id\"].isin(b - a)].index, inplace=True)\n",
    "print(f\"Number of rows in employee_counts after enforcing foreign key constraint - {len(employee_counts)}\")\n",
    "print(f\"Number of rows in companies whose company don't have any employee_counts associated with it - {len(a - b)}\")"
   ]
  },
  {
   "cell_type": "markdown",
   "metadata": {},
   "source": [
    "### CompanyIndustries\n",
    "Remove entries from company_industries for company_ids that don't exist in companies"
   ]
  },
  {
   "cell_type": "code",
   "execution_count": 10,
   "metadata": {},
   "outputs": [
    {
     "name": "stdout",
     "output_type": "stream",
     "text": [
      "Number of rows in company_industries before removing duplicate entries - 15880\n",
      "Number of rows with duplicate data - 9877\n",
      "Number of rows in company_industries after removing duplicate entries - 6003\n",
      "Number of rows in company_industries before enforcing foreign key constraint - 6003\n",
      "These company_ids don't correspond to any row in companies. Removing them ...\n",
      "    company_id                               industry\n",
      "0     81149246                       Higher Education\n",
      "1     10033339      Information Technology & Services\n",
      "2      6049228                             Accounting\n",
      "3      2641066  Electrical & Electronic Manufacturing\n",
      "4     96649998                Marketing & Advertising\n",
      "5     82684341                 Hospital & Health Care\n",
      "6     82296828      Information Technology & Services\n",
      "7     86746333               Logistics & Supply Chain\n",
      "8       718651                       Medical Practice\n",
      "9      4781041                     Mental Health Care\n",
      "10     7573454      Information Technology & Services\n",
      "11     1434753                Architecture & Planning\n",
      "12       90844     Recreational Facilities & Services\n",
      "14      145145                  Staffing & Recruiting\n",
      "15     2899710                               Research\n",
      "16    20338460                      Civil Engineering\n",
      "17    90633414                  Management Consulting\n",
      "18     2902815                  Management Consulting\n",
      "19      371180                     Mental Health Care\n",
      "20    10563070                   Education Management\n",
      "21       88684  Electrical & Electronic Manufacturing\n",
      "22    14615655      Information Technology & Services\n",
      "23    69571610                              Cosmetics\n",
      "24        3657                       Higher Education\n",
      "25       62424                            Real Estate\n",
      "26    18630069                           Oil & Energy\n",
      "28       35602                     Financial Services\n",
      "29    18872958     Non-profit Organization Management\n",
      "30    89908682                      Consumer Services\n",
      "31     2502541      Information Technology & Services\n",
      "32     9516195                                 Retail\n",
      "36    91187899                            Real Estate\n",
      "39     8986045                           Oil & Energy\n",
      "41    34771768                  Staffing & Recruiting\n",
      "47    79378951                            Real Estate\n",
      "48    26489605                                 Design\n",
      "49     9215353                     Mental Health Care\n",
      "60     3514329                           Construction\n",
      "63        2815                            Hospitality\n",
      "66    40934666                  Staffing & Recruiting\n",
      "68     1485063                 Environmental Services\n",
      "69    19115854                 Hospital & Health Care\n",
      "70     1124883                       Medical Practice\n",
      "71     4316275             Health, Wellness & Fitness\n",
      "72    27116461                      Computer Software\n",
      "74    64734122                         Consumer Goods\n",
      "76      272676                  Staffing & Recruiting\n",
      "77     3079381                              Machinery\n",
      "79     2313067                  Staffing & Recruiting\n",
      "82      165957                           Law Practice\n",
      "Number of rows in company_industries after enforcing foreign key constraint - 5953\n",
      "Number of rows in companies whose company don't have any company_industries associated with it - 77\n"
     ]
    }
   ],
   "source": [
    "print(f\"Number of rows in company_industries before removing duplicate entries - {len(company_industries)}\")\n",
    "print(f\"Number of rows with duplicate data - {len([x for x in company_industries.duplicated() if x==True])}\")\n",
    "company_industries.drop_duplicates(inplace=True)\n",
    "print(f\"Number of rows in company_industries after removing duplicate entries - {len(company_industries)}\")\n",
    "a = set(companies[\"company_id\"])\n",
    "b = set(company_industries[\"company_id\"])\n",
    "print(f\"Number of rows in company_industries before enforcing foreign key constraint - {len(company_industries)}\")\n",
    "print(\"These company_ids don't correspond to any row in companies. Removing them ...\")\n",
    "print(company_industries.loc[company_industries[\"company_id\"].isin(b - a)])\n",
    "company_industries.drop(company_industries[company_industries[\"company_id\"].isin(b - a)].index, inplace=True)\n",
    "print(f\"Number of rows in company_industries after enforcing foreign key constraint - {len(company_industries)}\")\n",
    "print(f\"Number of rows in companies whose company don't have any company_industries associated with it - {len(a - b)}\")"
   ]
  },
  {
   "cell_type": "markdown",
   "metadata": {},
   "source": [
    "### CompanySpecialities\n",
    "Remove entries from company_specialities for company_ids that don't exist in companies"
   ]
  },
  {
   "cell_type": "code",
   "execution_count": 11,
   "metadata": {},
   "outputs": [
    {
     "name": "stdout",
     "output_type": "stream",
     "text": [
      "Number of rows in company_specialities before removing duplicate entries - 128355\n",
      "Number of rows with duplicate data - 85798\n",
      "Number of rows in company_specialities after removing duplicate entries - 42557\n",
      "company_specialities has multivalued column speciality.\n",
      "Number of rows before exploding multivalued rows - 42557\n",
      "Number of rows after exploding multivalued rows - 43555\n",
      "Number of rows in company_specialities before removing duplicate entries - 43555\n",
      "Number of rows with duplicate data - 46\n",
      "Number of rows in company_specialities after removing duplicate entries - 43509\n",
      "Number of rows in company_specialities before enforcing foreign key constraint - 43509\n",
      "These company_ids don't correspond to any row in companies. Removing them ...\n",
      "     company_id                    speciality\n",
      "0      81149246     childrens music education\n",
      "1      81149246     foundational music theory\n",
      "2      81149246           child music lessons\n",
      "3      81149246     social emotional learning\n",
      "4      81149246  social emotional development\n",
      "..          ...                           ...\n",
      "492     2313067            supply chain niche\n",
      "493     2313067                           jda\n",
      "494     2313067                           sap\n",
      "495     2313067                        oracle\n",
      "496     2313067                     llamasoft\n",
      "\n",
      "[384 rows x 2 columns]\n",
      "Number of rows in company_specialities after enforcing foreign key constraint - 43125\n",
      "Number of rows in companies whose company don't have any company_specialities associated with it - 1578\n"
     ]
    }
   ],
   "source": [
    "company_specialities[\"speciality\"] = company_specialities[\"speciality\"].str.lower()\n",
    "print(f\"Number of rows in company_specialities before removing duplicate entries - {len(company_specialities)}\")\n",
    "print(f\"Number of rows with duplicate data - {len([x for x in company_specialities.duplicated() if x==True])}\")\n",
    "company_specialities.drop_duplicates(inplace=True)\n",
    "print(f\"Number of rows in company_specialities after removing duplicate entries - {len(company_specialities)}\")\n",
    "\n",
    "print(\"company_specialities has multivalued column speciality.\")\n",
    "print(f\"Number of rows before exploding multivalued rows - {len(company_specialities)}\")\n",
    "def split_specialities(specialities):\n",
    "    parts = re.split(r',(?![^\\(]*\\))', specialities)\n",
    "    return [part.strip() for part in parts]\n",
    "\n",
    "company_specialities['speciality'] = company_specialities['speciality'].apply(split_specialities)\n",
    "company_specialities = company_specialities.explode('speciality')\n",
    "company_specialities.reset_index(drop=True, inplace=True)\n",
    "print(f\"Number of rows after exploding multivalued rows - {len(company_specialities)}\")\n",
    "\n",
    "print(f\"Number of rows in company_specialities before removing duplicate entries - {len(company_specialities)}\")\n",
    "print(f\"Number of rows with duplicate data - {len([x for x in company_specialities.duplicated() if x==True])}\")\n",
    "company_specialities.drop_duplicates(inplace=True)\n",
    "print(f\"Number of rows in company_specialities after removing duplicate entries - {len(company_specialities)}\")\n",
    "\n",
    "a = set(companies[\"company_id\"])\n",
    "b = set(company_specialities[\"company_id\"])\n",
    "print(f\"Number of rows in company_specialities before enforcing foreign key constraint - {len(company_specialities)}\")\n",
    "print(\"These company_ids don't correspond to any row in companies. Removing them ...\")\n",
    "print(company_specialities.loc[company_specialities[\"company_id\"].isin(b - a)])\n",
    "company_specialities.drop(company_specialities[company_specialities[\"company_id\"].isin(b - a)].index, inplace=True)\n",
    "print(f\"Number of rows in company_specialities after enforcing foreign key constraint - {len(company_specialities)}\")\n",
    "print(f\"Number of rows in companies whose company don't have any company_specialities associated with it - {len(a - b)}\")"
   ]
  },
  {
   "cell_type": "markdown",
   "metadata": {},
   "source": [
    "## ER Diagram after enforcing constraints\n",
    "\n",
    "```mermaid\n",
    "erDiagram\n",
    "    Company {\n",
    "        int company_id PK\n",
    "        string name\n",
    "        string description\n",
    "    }\n",
    "\n",
    "    CompanyIndustry {\n",
    "        int company_id FK,PK\n",
    "        string industry\n",
    "    }\n",
    "    Company ||--o| CompanyIndustry : \"part of\"\n",
    "\n",
    "    CompanySpeciality {\n",
    "        int company_id FK,PK\n",
    "        string speciality PK\n",
    "    }\n",
    "    Company ||--o{ CompanySpeciality : has\n",
    "\n",
    "    EmployeeCount {\n",
    "        int company_id FK\n",
    "        float time_recorded\n",
    "        int employee_count\n",
    "        int follower_count\n",
    "    }\n",
    "    Company ||--o{ EmployeeCount : has\n",
    "    \n",
    "    JobPosting {\n",
    "        int job_id PK\n",
    "        int company_id FK\n",
    "    }\n",
    "    JobPosting }o..o| Company : by\n",
    "    \n",
    "    JobSkill {\n",
    "        int job_id FK,PK\n",
    "        string skill_abr PK\n",
    "    }\n",
    "    JobPosting ||--o{ JobSkill : has\n",
    "    \n",
    "    JobIndustry {\n",
    "        int job_id FK,PK\n",
    "        string industry_id PK\n",
    "    }\n",
    "    JobPosting ||--o{ JobIndustry : has\n",
    "    \n",
    "    Benefit {\n",
    "        int job_id FK,PK\n",
    "        string type PK\n",
    "        bool inferred\n",
    "    }\n",
    "    JobPosting ||--o{ Benefit : has\n",
    "```\n",
    "\n",
    "**Strong Entities** - JobPosting, Company\n",
    "\n",
    "**Weak Entities of JobPosting** - Benefit, JobIndustry, JobSkill\n",
    "\n",
    "**Weak Entities of Company** - CompanyIndustry, CompanySpeciality, EmployeeCount"
   ]
  },
  {
   "cell_type": "markdown",
   "metadata": {},
   "source": [
    "## Save to Staging Area (optimized for MySQL)"
   ]
  },
  {
   "cell_type": "code",
   "execution_count": 13,
   "metadata": {},
   "outputs": [],
   "source": [
    "job_postings.to_csv('staging_data/job_postings.csv', index=False, sep=\",\", escapechar=\"\\\\\", na_rep='NULL',\n",
    "                    columns=['job_id', 'company_id', 'title', 'description', 'skills_desc', 'work_type', 'location', 'currency', 'remote_allowed', 'sponsored', 'max_salary', 'med_salary', 'min_salary', 'pay_period', 'compensation_type', 'formatted_work_type', 'formatted_experience_level', 'applies', 'views', 'original_listed_time', 'listed_time', 'expiry', 'closed_time', 'posting_domain', 'job_posting_url', 'application_url', 'application_type'])\n",
    "\n",
    "benefits.to_csv('staging_data/benefits.csv', index=False, quoting=csv.QUOTE_NONNUMERIC,\n",
    "                    columns=['job_id', 'type', 'inferred'])\n",
    "\n",
    "job_industries.to_csv('staging_data/job_industries.csv', index=False, quoting=csv.QUOTE_NONNUMERIC,\n",
    "                        columns=['job_id', 'industry_id'])\n",
    "\n",
    "job_skills.to_csv('staging_data/job_skills.csv', index=False, quoting=csv.QUOTE_NONNUMERIC,\n",
    "                    columns=['job_id', 'skill_abr'])\n",
    "\n",
    "companies.to_csv('staging_data/companies.csv', index=False, sep=\",\", escapechar=\"\\\\\", na_rep='NULL',\n",
    "                    columns=['company_id', 'name', 'description', 'company_size', 'address', 'city', 'state', 'country', 'zip_code', 'url'])\n",
    "\n",
    "company_industries.to_csv('staging_data/company_industries.csv', index=False, quoting=csv.QUOTE_NONNUMERIC,\n",
    "                            columns=['company_id', 'industry'])\n",
    "\n",
    "company_specialities.to_csv('staging_data/company_specialities.csv', index=False, quoting=csv.QUOTE_NONNUMERIC,\n",
    "                            columns=['company_id', 'speciality'])\n",
    "\n",
    "employee_counts.to_csv('staging_data/employee_counts.csv', index=False, quoting=csv.QUOTE_NONNUMERIC,\n",
    "                        columns=['company_id', 'time_recorded', 'employee_count', 'follower_count'])"
   ]
  }
 ],
 "metadata": {
  "kernelspec": {
   "display_name": "venv",
   "language": "python",
   "name": "python3"
  },
  "language_info": {
   "codemirror_mode": {
    "name": "ipython",
    "version": 3
   },
   "file_extension": ".py",
   "mimetype": "text/x-python",
   "name": "python",
   "nbconvert_exporter": "python",
   "pygments_lexer": "ipython3",
   "version": "3.11.4"
  },
  "orig_nbformat": 4
 },
 "nbformat": 4,
 "nbformat_minor": 2
}

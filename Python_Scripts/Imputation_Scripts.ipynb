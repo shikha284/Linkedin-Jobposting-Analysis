{
 "cells": [
  {
   "cell_type": "code",
   "execution_count": 7,
   "id": "aad7972c",
   "metadata": {},
   "outputs": [],
   "source": [
    "import pandas as pd\n",
    "from sklearn.impute import SimpleImputer"
   ]
  },
  {
   "cell_type": "code",
   "execution_count": 8,
   "id": "f9bfcdc5",
   "metadata": {},
   "outputs": [],
   "source": [
    "original_file = 'Job_posting_part.csv'\n",
    "df = pd.read_csv(original_file)"
   ]
  },
  {
   "cell_type": "code",
   "execution_count": 9,
   "id": "c3cca59b",
   "metadata": {},
   "outputs": [],
   "source": [
    "num_columns = df.select_dtypes(include=['number']).columns\n",
    "cat_columns = df.select_dtypes(include=['object']).columns"
   ]
  },
  {
   "cell_type": "code",
   "execution_count": 10,
   "id": "ec815889",
   "metadata": {},
   "outputs": [],
   "source": [
    "num_imputer = SimpleImputer(strategy='median')\n",
    "df[num_columns] = num_imputer.fit_transform(df[num_columns]) #filling column values with median"
   ]
  },
  {
   "cell_type": "code",
   "execution_count": 11,
   "id": "16a8991d",
   "metadata": {},
   "outputs": [],
   "source": [
    "cat_imputer = SimpleImputer(strategy='most_frequent')\n",
    "df[cat_columns] = cat_imputer.fit_transform(df[cat_columns])"
   ]
  },
  {
   "cell_type": "code",
   "execution_count": 12,
   "id": "1ba4513e",
   "metadata": {},
   "outputs": [],
   "source": [
    "Result_dataset = 'Job_posting_part_final2.csv'\n",
    "df.to_csv(Result_dataset, index=False)"
   ]
  },
  {
   "cell_type": "code",
   "execution_count": null,
   "id": "6d5f0a1b",
   "metadata": {},
   "outputs": [],
   "source": []
  }
 ],
 "metadata": {
  "kernelspec": {
   "display_name": "Python 3 (ipykernel)",
   "language": "python",
   "name": "python3"
  },
  "language_info": {
   "codemirror_mode": {
    "name": "ipython",
    "version": 3
   },
   "file_extension": ".py",
   "mimetype": "text/x-python",
   "name": "python",
   "nbconvert_exporter": "python",
   "pygments_lexer": "ipython3",
   "version": "3.11.5"
  }
 },
 "nbformat": 4,
 "nbformat_minor": 5
}
